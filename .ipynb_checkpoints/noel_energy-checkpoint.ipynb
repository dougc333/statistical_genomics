{
 "cells": [
  {
   "cell_type": "markdown",
   "metadata": {},
   "source": [
    "<img src=\"noel1.png\">\n",
    "<img src=\"noel2.png\">\n",
    "<img src=\"noel3.png\">\n",
    "<img src=\"noel4.png\">\n",
    "<img src=\"noel5.png\">\n",
    "<img src=\"noel6.png\">\n",
    "<img src=\"noel7.png\">\n",
    "<img src=\"noel8.png\">\n",
    "<img src=\"noel9.png\">\n",
    "<img src=\"noel10.png\">\n"
   ]
  },
  {
   "cell_type": "code",
   "execution_count": null,
   "metadata": {},
   "outputs": [],
   "source": []
  }
 ],
 "metadata": {
  "kernelspec": {
   "display_name": "Python 3",
   "language": "python",
   "name": "python3"
  },
  "language_info": {
   "codemirror_mode": {
    "name": "ipython",
    "version": 3
   },
   "file_extension": ".py",
   "mimetype": "text/x-python",
   "name": "python",
   "nbconvert_exporter": "python",
   "pygments_lexer": "ipython3",
   "version": "3.6.10"
  }
 },
 "nbformat": 4,
 "nbformat_minor": 4
}
