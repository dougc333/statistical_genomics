{
 "cells": [
  {
   "cell_type": "code",
   "execution_count": 7,
   "metadata": {},
   "outputs": [],
   "source": [
    "import Bio\n",
    "from Bio import SeqIO\n",
    "\n"
   ]
  },
  {
   "cell_type": "code",
   "execution_count": 8,
   "metadata": {},
   "outputs": [
    {
     "name": "stdout",
     "output_type": "stream",
     "text": [
      "Name %s, %i features NW_022279620 62\n",
      "Seq('AAATCCAGCGAAGAGAGTTCCTATATCAGTCTGCTTTGGTACTCCGTAGTGGTA...AAA', IUPACAmbiguousDNA())\n",
      "Name %s, %i features NW_022279621 37\n",
      "Seq('GCATATATCTGGAGCATCTGATATAATTTTGAATCAGTTTCATTAATTCTTTTT...AGA', IUPACAmbiguousDNA())\n",
      "Name %s, %i features NW_022279622 20\n",
      "Seq('TCGCCTGGCTTAATCTTGTGACCGTCTCTGTCCCTGGCCTCTCCTCGTTGCTCC...TCT', IUPACAmbiguousDNA())\n",
      "Name %s, %i features NW_022279623 1322\n",
      "Seq('TATATATTGAATATTCTATATTCTACACTACGCCTAGCCTAAATTTTTGAAAAA...TTA', IUPACAmbiguousDNA())\n",
      "Name %s, %i features NW_022279624 462\n",
      "Seq('GCCCTCTATACCCATGCTCCGCTCATCGGTACATATCGGGACAAATTTTTAGTT...TTA', IUPACAmbiguousDNA())\n",
      "Name %s, %i features NW_022279625 98\n",
      "Seq('TTCAAAACCTGCAGGTAGTTTTGTGAAACCATGAGATTGATGTCAAAATTAAAT...TAA', IUPACAmbiguousDNA())\n",
      "Name %s, %i features NW_022279626 190\n",
      "Seq('TTGATATTCAAATATTGAATCAATTGAAAGCTTTGAGGATAAACCGACTGTTTG...TAG', IUPACAmbiguousDNA())\n",
      "Name %s, %i features NW_022279627 5545\n",
      "Seq('TGCTTAAGCGATCTATCGACGTTTCACTTGAAACTGGGCTTGGATTTTTATAAA...AAA', IUPACAmbiguousDNA())\n",
      "Name %s, %i features NW_022279628 84\n",
      "Seq('CGAAGCAAGTTTCCAATTTGAGAGTAGTCATGTCCATCGGTTTTCCAGTTCATG...TAT', IUPACAmbiguousDNA())\n",
      "Name %s, %i features NW_022279629 171\n",
      "Seq('TTTCGCGAATGCGTGCGTATTAAAAATTGATTATTTGGAGCTTGTAAATCTGTC...GGG', IUPACAmbiguousDNA())\n",
      "Name %s, %i features NW_022279630 158\n",
      "Seq('TGCTGCTTTTTCTTTGTTTATAAAAATCCAAGCCCAGTTTCTAGCGAAATGTCG...GTC', IUPACAmbiguousDNA())\n",
      "Name %s, %i features NW_022279631 37\n",
      "Seq('AATGCAGACTCTAGAAGGAACAGACTTCTAGAGTCTCACATATTAAATAGCTAA...CAT', IUPACAmbiguousDNA())\n",
      "Name %s, %i features NW_022279632 30\n",
      "Seq('ACCTTTTGTGATATGAATTTAATACATAAAGCAGTCGTCATTTAACATTCACAA...GCT', IUPACAmbiguousDNA())\n",
      "Name %s, %i features NW_022279633 55\n",
      "Seq('ACATCAATCTCATGGTTTCACAAAACTACCTGCAGGTTTTGATGGAATAACATT...TGA', IUPACAmbiguousDNA())\n",
      "Name %s, %i features NW_022279634 5156\n",
      "Seq('CCAATAACCCAATAACCCAATAACCCAATAACCCAATAAAAAAAAAAAATAAAA...AAA', IUPACAmbiguousDNA())\n",
      "Name %s, %i features NW_022279635 66\n",
      "Seq('TATAATAAAACGTGAATTTCTCATAATCTACGCAGTGGATCGATTGATCCTTGC...CCT', IUPACAmbiguousDNA())\n"
     ]
    }
   ],
   "source": [
    "gbk_filename = \"/Users/dougchang/Downloads/nvi_ref_Nvit_psr_1_chr3.gbk\"\n",
    "faa_filename = \"AY274119_converted.fna\"\n",
    "input_handle  = open(gbk_filename, \"r\")\n",
    "output_handle = open(faa_filename, \"w\")\n",
    "for gb_record in SeqIO.parse(open(gbk_filename,\"r\"), \"genbank\") :\n",
    "    # now do something with the record\n",
    "    print (\"Name %s, %i features\" ,gb_record.name, len(gb_record.features))\n",
    "    print (repr(gb_record.seq))\n",
    "    "
   ]
  },
  {
   "cell_type": "code",
   "execution_count": null,
   "metadata": {},
   "outputs": [],
   "source": []
  }
 ],
 "metadata": {
  "kernelspec": {
   "display_name": "Python 3",
   "language": "python",
   "name": "python3"
  },
  "language_info": {
   "codemirror_mode": {
    "name": "ipython",
    "version": 3
   },
   "file_extension": ".py",
   "mimetype": "text/x-python",
   "name": "python",
   "nbconvert_exporter": "python",
   "pygments_lexer": "ipython3",
   "version": "3.6.10"
  }
 },
 "nbformat": 4,
 "nbformat_minor": 2
}
